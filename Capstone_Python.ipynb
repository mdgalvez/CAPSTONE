{
  "nbformat": 4,
  "nbformat_minor": 0,
  "metadata": {
    "colab": {
      "name": "Capstone Python",
      "provenance": [],
      "collapsed_sections": [],
      "authorship_tag": "ABX9TyOJvJ7XnEXk7IuGu5oYXRld",
      "include_colab_link": true
    },
    "kernelspec": {
      "name": "python3",
      "display_name": "Python 3"
    }
  },
  "cells": [
    {
      "cell_type": "markdown",
      "metadata": {
        "id": "view-in-github",
        "colab_type": "text"
      },
      "source": [
        "<a href=\"https://colab.research.google.com/github/mdgalvez/CAPSTONE/blob/master/Capstone_Python.ipynb\" target=\"_parent\"><img src=\"https://colab.research.google.com/assets/colab-badge.svg\" alt=\"Open In Colab\"/></a>"
      ]
    },
    {
      "cell_type": "code",
      "metadata": {
        "id": "YXRCaQ-4kyjt",
        "colab_type": "code",
        "colab": {
          "base_uri": "https://localhost:8080/",
          "height": 423
        },
        "outputId": "6225b590-30b1-4294-b522-1233567f6b08"
      },
      "source": [
        "import matplotlib.pyplot as plt\n",
        "import matplotlib as mpl\n",
        "import seaborn as sns\n",
        "import pandas as pd\n",
        "import numpy as np\n",
        "from tabulate import tabulate\n",
        "%matplotlib inline\n",
        "\n",
        "\n",
        "\n",
        "\n",
        "def filter_dataframe(df,year,peformer):\n",
        "  df_filter = df[(df['Discharge Year'] == int(year)) & (df['High/Low Performer'] == peformer) ]  \n",
        "  return df_filter\n",
        "\n",
        "performer_choices = {'1': 'AVERAGE','2':'HIGH','3':'LOW','4':'N.C.','5':'N.A.','6':'S.S.'}\n",
        "#remove missing values\n",
        "missing_values = [\".\", \",\",\"na\"]\n",
        "data = pd.read_csv('https://raw.githubusercontent.com/mdgalvez/CAPSTONE/master/2015%20to%202016%20with%20Zip%20Code.csv', na_values = missing_values)\n",
        "\n",
        "data.drop_duplicates(keep = 'first',inplace = True)\n",
        "\n",
        "while True:\n",
        "  discharge_year = input(\"Enter Discharge Year: \")\n",
        "  print(\"Now please enter your choice for High/Low Peformer . \\n 1. AVERAGE \\n 2. HIGH \\n 3. LOW \\n 4. N.C. \\n 5. N.A. \\n 6. S.S. \")\n",
        "  performer_choice = input(\"Enter Value: \")\n",
        "  performer_value = performer_choices[performer_choice]\n",
        "  df_filter = filter_dataframe(data,discharge_year,performer_value)\n",
        "  print(tabulate(df_filter, headers='keys', tablefmt='psql'))\n",
        "\n",
        "  print(\"\\nDo you want to continue? (Y/N)\")\n",
        "  ans = input()\n",
        "      # if user input n or N then condition is True\n",
        "  if ans == 'n' or ans == 'N':\n",
        "    break\n",
        "\n",
        "\n",
        "\n",
        "\n",
        "\n",
        "\n",
        "\n",
        "\n",
        "\n",
        "\n",
        "\n",
        "\n",
        "\n",
        "\n",
        "\n",
        "\n",
        "\n",
        "\n",
        "\n",
        "\n",
        " "
      ],
      "execution_count": null,
      "outputs": [
        {
          "output_type": "stream",
          "text": [
            "Enter Discharge Year: 2015\n",
            "Now please enter your choice for High/Low Peformer . \n",
            " 1. AVERAGE \n",
            " 2. HIGH \n",
            " 3. LOW \n",
            " 4. N.C. \n",
            " 5. N.A. \n",
            " 6. S.S. \n",
            "Enter Value: 4\n",
            "+-----+------------------+-------+----------------------------------+----------------+------------+---------------------------+---------------------------------------+-------------------+---------------------------------------+----------------------+----------------------------------+--------------------------+----------------------------------------------+-----------------------------+-------------------------+-----------------------------------------+-----------------------------+-------------------------+-----------------------------------------+\n",
            "|     |   Discharge Year |   PFI | Facility Name                    | Location       |   Zip Code | Data Dictionary Version   | Risk Adujsted Mortality Denominator   | Observed Deaths   | Risk Adjusted Mortality Rate (RAMR)   | High/Low Performer   |   Protocol Initiated Denominator |   Protocol Initiated (%) | Protocol Initiated Quintile of Performance   | 3-Hour Bundle Denominator   | Met 3-Hour Bundle (%)   | 3-Hour Bundle Quintile of Performance   | 6-Hour Bundle Denominator   | Met 6-Hour Bundle (%)   | 6-Hour Bundle Quintile of Performance   |\n",
            "|-----+------------------+-------+----------------------------------+----------------+------------+---------------------------+---------------------------------------+-------------------+---------------------------------------+----------------------+----------------------------------+--------------------------+----------------------------------------------+-----------------------------+-------------------------+-----------------------------------------+-----------------------------+-------------------------+-----------------------------------------|\n",
            "|  24 |             2015 |   401 | Community Memorial Hospital Inc  | Hamilton       |      13346 | v1.42 - v2.0              | N.C.                                  | N.C.              | N.C.                                  | N.C.                 |                               11 |                    81.82 | 2-Low                                        | S.S.                        | S.S.                    | S.S.                                    | S.S.                        | S.S.                    | S.S.                                    |\n",
            "|  32 |             2015 |   303 | Elizabethtown Community Hospital | Elizabethtown  |      12932 | v1.42 - v2.0              | N.C.                                  | N.C.              | N.C.                                  | N.C.                 |                               20 |                   100    | 5-Highest                                    | S.S.                        | S.S.                    | S.S.                                    | S.S.                        | S.S.                    | S.S.                                    |\n",
            "|  63 |             2015 |   362 | Little Falls Hospital            | Little Falls   |      13365 | v1.42 - v2.0              | N.C.                                  | N.C.              | N.C.                                  | N.C.                 |                               25 |                   100    | 5-Highest                                    | S.S.                        | S.S.                    | S.S.                                    | S.S.                        | S.S.                    | S.S.                                    |\n",
            "|  81 |             2015 |   309 | Moses-Ludington Hospital         | Ticonderoga    |      12883 | v1.42 - v2.0              | N.C.                                  | N.C.              | N.C.                                  | N.C.                 |                               17 |                   100    | 5-Highest                                    | S.S.                        | S.S.                    | S.S.                                    | S.S.                        | S.S.                    | S.S.                                    |\n",
            "| 107 |             2015 |   165 | OConnor Hospital                 | Delhi          |      13753 | v1.42 - v2.0              | N.C.                                  | N.C.              | N.C.                                  | N.C.                 |                               12 |                    83.33 | 2-Low                                        | N.C.                        | N.C.                    | N.C.                                    | N.C.                        | N.C.                    | N.C.                                    |\n",
            "| 119 |             2015 |   377 | River Hospital, Inc.             | Alexandria Bay |      13607 | v1.42 - v2.0              | N.C.                                  | N.C.              | N.C.                                  | N.C.                 |                               12 |                    75    | 2-Low                                        | S.S.                        | S.S.                    | S.S.                                    | S.S.                        | S.S.                    | S.S.                                    |\n",
            "| 155 |             2015 |  8554 | Tri Town Regional Healthcare     | Sidney         |      13838 | v1.42 - v2.0              | N.C.                                  | N.C.              | N.C.                                  | N.C.                 |                               11 |                    63.64 | 1-Lowest                                     | S.S.                        | S.S.                    | S.S.                                    | S.S.                        | S.S.                    | S.S.                                    |\n",
            "+-----+------------------+-------+----------------------------------+----------------+------------+---------------------------+---------------------------------------+-------------------+---------------------------------------+----------------------+----------------------------------+--------------------------+----------------------------------------------+-----------------------------+-------------------------+-----------------------------------------+-----------------------------+-------------------------+-----------------------------------------+\n",
            "\n",
            "Do you want to continue? (Y/N)\n",
            "n\n"
          ],
          "name": "stdout"
        }
      ]
    }
  ]
}